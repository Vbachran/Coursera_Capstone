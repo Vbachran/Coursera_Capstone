#Importing Pandas and Numpy libraries
import pandas as pd
import numpy as np

#Print a Statement
print("Hello Capstone Project Course!")
